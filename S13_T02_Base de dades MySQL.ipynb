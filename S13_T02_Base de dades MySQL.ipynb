{
 "cells": [
  {
   "cell_type": "markdown",
   "id": "633e9564",
   "metadata": {},
   "source": [
    "# S13_T01_Bases de dades MySQL\n",
    "\n",
    "\n",
    "### Ex1: Crea una base de dades relacionals senzilla utilitzant MySQL(https://www.mysql.com/) i connecta-la a Python"
   ]
  },
  {
   "cell_type": "markdown",
   "id": "cbaebf70",
   "metadata": {},
   "source": [
    "Crearem una base de dades de una escola a on tenim la info dels estudiants i professors amb les seves relacions, i la informació dels diferents estudis amb la informació de les classes.Per tant, tindrem taules per: estudiants, professors, classes i de relació entre professor i estudiant"
   ]
  },
  {
   "cell_type": "code",
   "execution_count": 18,
   "id": "2610da22",
   "metadata": {
    "ExecuteTime": {
     "end_time": "2022-07-04T08:32:40.496411Z",
     "start_time": "2022-07-04T08:32:40.492422Z"
    }
   },
   "outputs": [],
   "source": [
    "import mysql.connector"
   ]
  },
  {
   "cell_type": "code",
   "execution_count": 2,
   "id": "d1f8664c",
   "metadata": {
    "ExecuteTime": {
     "end_time": "2022-07-01T13:31:28.666437Z",
     "start_time": "2022-07-01T13:31:26.242012Z"
    }
   },
   "outputs": [],
   "source": [
    "mydb = mysql.connector.connect(\n",
    "  host=\"localhost\",\n",
    "  user=\"Beth\",\n",
    "  password=\"B3thSQL@88\"\n",
    ")\n",
    "\n",
    "mycursor = mydb.cursor()\n",
    "\n",
    "#creem database \"database_test\"\n",
    "mycursor.execute(\"CREATE DATABASE escola_sup\")"
   ]
  },
  {
   "cell_type": "code",
   "execution_count": 3,
   "id": "496cddad",
   "metadata": {
    "ExecuteTime": {
     "end_time": "2022-07-01T13:32:16.291430Z",
     "start_time": "2022-07-01T13:32:15.986164Z"
    }
   },
   "outputs": [
    {
     "name": "stdout",
     "output_type": "stream",
     "text": [
      "('compras_establiments',)\n",
      "('datbase_test',)\n",
      "('escola_sup',)\n",
      "('information_schema',)\n",
      "('mydatabase',)\n",
      "('mysql',)\n",
      "('performance_schema',)\n",
      "('sakila',)\n",
      "('sys',)\n",
      "('world',)\n"
     ]
    }
   ],
   "source": [
    "#comprovem si s'ha creat la nostra base de dades\n",
    "\n",
    "mycursor.execute(\"SHOW DATABASES\")\n",
    "\n",
    "for x in mycursor:\n",
    "  print(x)"
   ]
  },
  {
   "cell_type": "code",
   "execution_count": 16,
   "id": "55f11d95",
   "metadata": {
    "ExecuteTime": {
     "end_time": "2022-07-01T13:47:25.537996Z",
     "start_time": "2022-07-01T13:47:24.155606Z"
    }
   },
   "outputs": [],
   "source": [
    "#creem taules (Estudiants, Professors,Classes)\n",
    "\n",
    "mydb = mysql.connector.connect(\n",
    "  host=\"localhost\",\n",
    "  user=\"Beth\",\n",
    "  password=\"B3thSQL@88\",\n",
    "  database=\"escola_sup\"\n",
    ")\n",
    "\n",
    "mycursor = mydb.cursor()\n",
    "\n",
    "mycursor.execute(\"CREATE TABLE estudiants (ID INT PRIMARY KEY, Nom VARCHAR(255), Cognom VARCHAR(255), Estudis VARCHAR(255))\")"
   ]
  },
  {
   "cell_type": "code",
   "execution_count": 22,
   "id": "7a40448d",
   "metadata": {
    "ExecuteTime": {
     "end_time": "2022-07-04T08:37:02.875372Z",
     "start_time": "2022-07-04T08:37:02.292569Z"
    }
   },
   "outputs": [],
   "source": [
    "mydb = mysql.connector.connect(\n",
    "  host=\"localhost\",\n",
    "  user=\"Beth\",\n",
    "  password=\"B3thSQL@88\",\n",
    "  database=\"escola_sup\"\n",
    ")\n",
    "\n",
    "mycursor = mydb.cursor()\n",
    "\n",
    "mycursor.execute(\"CREATE TABLE classes (materia VARCHAR(255), Estudis VARCHAR(255))\")"
   ]
  },
  {
   "cell_type": "code",
   "execution_count": 24,
   "id": "f60fee55",
   "metadata": {
    "ExecuteTime": {
     "end_time": "2022-07-04T08:50:37.365924Z",
     "start_time": "2022-07-04T08:50:36.197570Z"
    }
   },
   "outputs": [],
   "source": [
    "mycursor.execute(\"CREATE TABLE test (materia VARCHAR(255), final INTEGER(8))\")"
   ]
  },
  {
   "cell_type": "code",
   "execution_count": 25,
   "id": "c3839203",
   "metadata": {
    "ExecuteTime": {
     "end_time": "2022-07-04T08:54:15.698901Z",
     "start_time": "2022-07-04T08:54:14.768045Z"
    }
   },
   "outputs": [],
   "source": [
    "mycursor = mydb.cursor()\n",
    "\n",
    "sql = \"DROP TABLE test\"\n",
    "\n",
    "mycursor.execute(sql)\n",
    "mydb.commit()\n"
   ]
  },
  {
   "cell_type": "code",
   "execution_count": 30,
   "id": "ee1df709",
   "metadata": {
    "ExecuteTime": {
     "end_time": "2022-07-04T09:10:40.463709Z",
     "start_time": "2022-07-04T09:10:40.437778Z"
    }
   },
   "outputs": [
    {
     "name": "stdout",
     "output_type": "stream",
     "text": [
      "('classes',)\n",
      "('estudiants',)\n",
      "('professors',)\n",
      "('relation',)\n"
     ]
    }
   ],
   "source": [
    "#Ara ja tenim creada la nostra base de dades, i connectada amb Python!\n",
    "#podem demanar-li que ens mostri les taules que conté per veure que ho tenim tot correctament connectat\n",
    "\n",
    "mydb = mysql.connector.connect(\n",
    "  host=\"localhost\",\n",
    "  user=\"Beth\",\n",
    "  password=\"B3thSQL@88\",\n",
    "  database=\"escola_sup\"\n",
    ")\n",
    "\n",
    "mycursor.execute(\"SHOW TABLES\")\n",
    "\n",
    "for x in mycursor:\n",
    "  print(x)"
   ]
  },
  {
   "cell_type": "markdown",
   "id": "6ca34b65",
   "metadata": {},
   "source": [
    "### Ex2: Mostra que pots carregar algunes consultes senzilles a un Pandas Dataframe"
   ]
  },
  {
   "cell_type": "code",
   "execution_count": 11,
   "id": "72f8d26a",
   "metadata": {
    "ExecuteTime": {
     "end_time": "2022-07-04T13:00:11.316578Z",
     "start_time": "2022-07-04T13:00:11.306606Z"
    }
   },
   "outputs": [],
   "source": [
    "#anem a carregar algunes consultes a un Pandas Dataframe\n",
    "import pandas as pd\n",
    "import mysql.connector"
   ]
  },
  {
   "cell_type": "code",
   "execution_count": 16,
   "id": "c57d1437",
   "metadata": {
    "ExecuteTime": {
     "end_time": "2022-07-04T13:01:15.447567Z",
     "start_time": "2022-07-04T13:01:15.426595Z"
    }
   },
   "outputs": [],
   "source": [
    "mydb = mysql.connector.connect(\n",
    "  host=\"localhost\",\n",
    "  user=\"Beth\",\n",
    "  password=\"B3thSQL@88\",\n",
    "  database=\"escola_sup\"\n",
    ")"
   ]
  },
  {
   "cell_type": "code",
   "execution_count": 13,
   "id": "395a3b50",
   "metadata": {
    "ExecuteTime": {
     "end_time": "2022-07-04T13:00:16.983556Z",
     "start_time": "2022-07-04T13:00:16.962612Z"
    }
   },
   "outputs": [
    {
     "name": "stdout",
     "output_type": "stream",
     "text": [
      "<class 'pandas.core.frame.DataFrame'>\n",
      "RangeIndex: 30 entries, 0 to 29\n",
      "Data columns (total 3 columns):\n",
      " #   Column    Non-Null Count  Dtype \n",
      "---  ------    --------------  ----- \n",
      " 0   id_profe  30 non-null     object\n",
      " 1   nom       30 non-null     object\n",
      " 2   materia   30 non-null     object\n",
      "dtypes: object(3)\n",
      "memory usage: 848.0+ bytes\n",
      "None\n",
      "   id_profe        nom         materia\n",
      "0      P001      Petra           Mates\n",
      "1      P002      Ramon          Dibuix\n",
      "2      P003  Constanti     Estadistica\n",
      "3      P004      Belen        Biologia\n",
      "4      P005      Faust         Disseny\n",
      "5      P006      Marta       Algebra I\n",
      "6      P007      Emili          Calcul\n",
      "7      P008      Erika          Angles\n",
      "8      P009      Eladi         Quimica\n",
      "9      P010      Felip      Algebra II\n",
      "10     P011        Pau        Dibuix I\n",
      "11     P012      Carol       E Digital\n",
      "12     P013      Reyes     Programacio\n",
      "13     P014     Carles       Dibuix II\n",
      "14     P015     Marcel        Hardware\n",
      "15     P016       Joan          Fisica\n",
      "16     P017      Pablo        Quantica\n",
      "17     P018      Oscar            Dret\n",
      "18     P019        Pep      Legislacio\n",
      "19     P020      Ester     Ofimatica I\n",
      "20     P021       Imma    Ofimatica II\n",
      "21     P022    Conxita         Lab Bio\n",
      "22     P023      Carme      Lab Fisica\n",
      "23     P024     Miquel     Lab Quimica\n",
      "24     P025       Laia       Lab Elect\n",
      "25     P026     Xavier   Electronica I\n",
      "26     P027       Biel  Electronica II\n",
      "27     P028       Marc      Mecanica I\n",
      "28     P029      Bruna     Mecanica II\n",
      "29     P030       Alex     Lab Mecanic\n"
     ]
    }
   ],
   "source": [
    "#fem una consulta per saber el nom i codi del professor que dóna cada matèria\n",
    "query = \"SELECT id_profe, nom, materia FROM professors\"\n",
    "#convertim una query en un dataframe de Pandas, i tanquem connexió a la base de dades\n",
    "data_frame = pd.read_sql(query, mydb)\n",
    "#extreiem la info de les variables consultades, i imprimim el nou dataframe de la consulta\n",
    "print(data_frame.info())\n",
    "print(data_frame)"
   ]
  },
  {
   "cell_type": "code",
   "execution_count": 14,
   "id": "c6d45fb6",
   "metadata": {
    "ExecuteTime": {
     "end_time": "2022-07-04T13:00:20.199675Z",
     "start_time": "2022-07-04T13:00:20.180725Z"
    }
   },
   "outputs": [
    {
     "name": "stdout",
     "output_type": "stream",
     "text": [
      "<class 'pandas.core.frame.DataFrame'>\n",
      "RangeIndex: 1 entries, 0 to 0\n",
      "Data columns (total 1 columns):\n",
      " #   Column      Non-Null Count  Dtype\n",
      "---  ------      --------------  -----\n",
      " 0   COUNT(nom)  1 non-null      int64\n",
      "dtypes: int64(1)\n",
      "memory usage: 136.0 bytes\n",
      "None\n",
      "   COUNT(nom)\n",
      "0           5\n"
     ]
    }
   ],
   "source": [
    "#fem una segona consulta per saber el nombre i nom d'estudiants que fan Mates\n",
    "query_2 = \"SELECT COUNT(nom) FROM estudiants WHERE Estudis = 'Mates'\"\n",
    "#convertim una query en un dataframe de Pandas, i tanquem connexió a la base de dades\n",
    "data_frame_2 = pd.read_sql(query_2, mydb)\n",
    "\n",
    "#extreiem la info de les variables consultades, i imprimim el nou dataframe de la consulta\n",
    "print(data_frame_2.info())\n",
    "print(data_frame_2)"
   ]
  },
  {
   "cell_type": "code",
   "execution_count": 17,
   "id": "88ba3f93",
   "metadata": {
    "ExecuteTime": {
     "end_time": "2022-07-04T13:01:20.341874Z",
     "start_time": "2022-07-04T13:01:20.314554Z"
    }
   },
   "outputs": [
    {
     "name": "stdout",
     "output_type": "stream",
     "text": [
      "<class 'pandas.core.frame.DataFrame'>\n",
      "RangeIndex: 13 entries, 0 to 12\n",
      "Data columns (total 2 columns):\n",
      " #   Column  Non-Null Count  Dtype \n",
      "---  ------  --------------  ----- \n",
      " 0   nom     13 non-null     object\n",
      " 1   cognom  13 non-null     object\n",
      "dtypes: object(2)\n",
      "memory usage: 336.0+ bytes\n",
      "None\n",
      "           nom    cognom\n",
      "0     Milagros     Rosal\n",
      "1        Germa    Quebec\n",
      "2    Constanti   Halbert\n",
      "3        Alice    Rovira\n",
      "4        Faust     Lamas\n",
      "5       Clemen     Arnes\n",
      "6      Daniela  Vallverd\n",
      "7       Marcel    Martin\n",
      "8        Nuria     Enric\n",
      "9   Montserrat    Salgas\n",
      "10       Felip      Puig\n",
      "11         Pau    Romeva\n",
      "12       Carol    Torres\n"
     ]
    }
   ],
   "source": [
    "query_3 = \"SELECT nom, cognom FROM estudiants WHERE Estudis = 'Enginyeria'\"\n",
    "#convertim una query en un dataframe de Pandas, i tanquem connexió a la base de dades\n",
    "data_frame_3 = pd.read_sql(query_3, mydb)\n",
    "mydb.close()\n",
    "#extreiem la info de les variables consultades, i imprimim el nou dataframe de la consulta\n",
    "print(data_frame_3.info())\n",
    "print(data_frame_3)"
   ]
  },
  {
   "cell_type": "markdown",
   "id": "200ad743",
   "metadata": {},
   "source": [
    "### Ex3: Genera algun gràfic que resumeixi les dades"
   ]
  },
  {
   "cell_type": "code",
   "execution_count": null,
   "id": "2c1a90b2",
   "metadata": {},
   "outputs": [],
   "source": []
  }
 ],
 "metadata": {
  "kernelspec": {
   "display_name": "Python 3 (ipykernel)",
   "language": "python",
   "name": "python3"
  },
  "language_info": {
   "codemirror_mode": {
    "name": "ipython",
    "version": 3
   },
   "file_extension": ".py",
   "mimetype": "text/x-python",
   "name": "python",
   "nbconvert_exporter": "python",
   "pygments_lexer": "ipython3",
   "version": "3.9.7"
  },
  "latex_envs": {
   "LaTeX_envs_menu_present": true,
   "autoclose": false,
   "autocomplete": true,
   "bibliofile": "biblio.bib",
   "cite_by": "apalike",
   "current_citInitial": 1,
   "eqLabelWithNumbers": true,
   "eqNumInitial": 1,
   "hotkeys": {
    "equation": "Ctrl-E",
    "itemize": "Ctrl-I"
   },
   "labels_anchors": false,
   "latex_user_defs": false,
   "report_style_numbering": false,
   "user_envs_cfg": false
  }
 },
 "nbformat": 4,
 "nbformat_minor": 5
}
